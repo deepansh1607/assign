{
 "cells": [
  {
   "cell_type": "code",
   "execution_count": null,
   "id": "a723f529-dd98-47d4-93ae-ccd7ad1c6e4a",
   "metadata": {},
   "outputs": [],
   "source": [
    "from collections.abc import Iterable\n",
    "\n",
    "def flatten_list(lst):\n",
    "    \"\"\"Flattens a nested list and returns a flat list with only numeric values.\"\"\"\n",
    "    flat_list = []\n",
    "    \n",
    "    for item in lst:\n",
    "        if isinstance(item, Iterable) and not isinstance(item, str):\n",
    "            # Recursively flatten if the item is an iterable (not a string)\n",
    "            flat_list.extend(flatten_list(item))\n",
    "        elif isinstance(item, (int, float)):\n",
    "            # Add numeric values to the flat list\n",
    "            flat_list.append(item)\n",
    "        elif isinstance(item, dict):\n",
    "            # Extract numeric keys and values from dictionaries\n",
    "            for key, value in item.items():\n",
    "                if isinstance(key, (int, float)):\n",
    "                    flat_list.append(key)\n",
    "                if isinstance(value, (int, float)):\n",
    "                    flat_list.append(value)\n",
    "                elif isinstance(value, Iterable) and not isinstance(value, str):\n",
    "                    # Recursively flatten values in dictionaries\n",
    "                    flat_list.extend(flatten_list(value))\n",
    "    return flat_list\n",
    "\n",
    "def product_of_numbers(lst):\n",
    "    \"\"\"Calculates the product of all numbers in the flat list.\"\"\"\n",
    "    flat_list = flatten_list(lst)\n",
    "    product = 1\n",
    "    for num in flat_list:\n",
    "        product *= num\n",
    "    return product\n",
    "\n",
    "# Given list\n",
    "list1 = [1,2,3,4, [44,55,66, True], False, (34,56,78,89,34), {1,2,3,3,2,1}, {1:34, \"key2\": [55, 67, 78, 89], 4: (45, 22, 61, 34)}, [56, 'data science'], 'Machine Learning']\n",
    "\n",
    "# Calculate the product of all numbers\n",
    "result = product_of_numbers(list1)\n",
    "print(f\"The product of all numbers is: {result}\")\n"
   ]
  },
  {
   "cell_type": "code",
   "execution_count": null,
   "id": "68a96203-f4df-4d3d-b424-8577e52669c3",
   "metadata": {},
   "outputs": [],
   "source": [
    "def encrypt_message(message):\n",
    "    # Convert message to lowercase\n",
    "    message = message.lower()\n",
    "\n",
    "    # Create the encryption mapping\n",
    "    # 'a' should map to 'z', 'b' to 'y', and so on\n",
    "    alphabet = 'abcdefghijklmnopqrstuvwxyz'\n",
    "    encrypted_alphabet = alphabet[::-1]  # Reversed alphabet for encryption\n",
    "\n",
    "    # Create a translation table for characters\n",
    "    translation_table = str.maketrans(alphabet + ' ', encrypted_alphabet + '$')\n",
    "\n",
    "    # Encrypt the message using the translation table\n",
    "    encrypted_message = message.translate(translation_table)\n",
    "\n",
    "    return encrypted_message\n",
    "\n",
    "# Input sentence\n",
    "input_sentence = \"I want to become a Data Scientist.\"\n",
    "\n",
    "# Encrypt the input sentence\n",
    "encrypted_sentence = encrypt_message(input_sentence)\n",
    "print(f\"Encrypted message: {encrypted_sentence}\")\n"
   ]
  }
 ],
 "metadata": {
  "kernelspec": {
   "display_name": "Python 3 (ipykernel)",
   "language": "python",
   "name": "python3"
  },
  "language_info": {
   "codemirror_mode": {
    "name": "ipython",
    "version": 3
   },
   "file_extension": ".py",
   "mimetype": "text/x-python",
   "name": "python",
   "nbconvert_exporter": "python",
   "pygments_lexer": "ipython3",
   "version": "3.10.8"
  }
 },
 "nbformat": 4,
 "nbformat_minor": 5
}
